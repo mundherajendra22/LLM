{
 "cells": [
  {
   "cell_type": "code",
   "execution_count": 2,
   "metadata": {},
   "outputs": [],
   "source": [
    "from langchain.llms import OpenAI"
   ]
  },
  {
   "cell_type": "code",
   "execution_count": 3,
   "metadata": {},
   "outputs": [],
   "source": [
    "import os\n",
    "os.environ[\"OPENAI_API_KEY\"] =  os.getenv(\"OPENAI_API_KEY\")"
   ]
  },
  {
   "cell_type": "markdown",
   "metadata": {},
   "source": [
    "\n",
    "\n",
    " if value is towards 1 more creative but risky\n",
    "temperature value  towards 1---> more creative more risk wrong o/p"
   ]
  },
  {
   "cell_type": "code",
   "execution_count": 5,
   "metadata": {},
   "outputs": [
    {
     "data": {
      "text/plain": [
       "True"
      ]
     },
     "execution_count": 5,
     "metadata": {},
     "output_type": "execute_result"
    }
   ],
   "source": [
    "from dotenv import load_dotenv\n",
    "load_dotenv()"
   ]
  },
  {
   "cell_type": "code",
   "execution_count": 6,
   "metadata": {},
   "outputs": [],
   "source": [
    "llm = OpenAI(temperature = 0.6)"
   ]
  },
  {
   "cell_type": "code",
   "execution_count": 7,
   "metadata": {},
   "outputs": [
    {
     "name": "stdout",
     "output_type": "stream",
     "text": [
      "\n",
      "\n",
      "The capital of India is New Delhi.\n"
     ]
    }
   ],
   "source": [
    "text = \"what is capital of India\"\n",
    "print(llm.predict(text))"
   ]
  },
  {
   "cell_type": "code",
   "execution_count": 9,
   "metadata": {},
   "outputs": [],
   "source": [
    "from langchain import HuggingFaceHub\n",
    "#llm_HuggingFaceHub(repo_id=\"google/flan-t5-large\",model_kwargs={\"temperature\":0,\"max_length\":64})\n",
    "#output = llm_HuggingFaceHub.predict(\"Can you tell me capital of India\")\n",
    "#print(output)"
   ]
  },
  {
   "cell_type": "markdown",
   "metadata": {},
   "source": [
    "### Prompt Template and LLMChain"
   ]
  },
  {
   "cell_type": "code",
   "execution_count": 15,
   "metadata": {},
   "outputs": [
    {
     "data": {
      "text/plain": [
       "'\\n\\nThe capital of India is New Delhi.'"
      ]
     },
     "execution_count": 15,
     "metadata": {},
     "output_type": "execute_result"
    }
   ],
   "source": [
    "from langchain.prompts import PromptTemplate\n",
    "from langchain.chains import LLMChain\n",
    "prompt_template = PromptTemplate(\n",
    "\n",
    "  input_variables=['country'],\n",
    "  template='tell me capital of this {country}'\n",
    ")\n",
    "prompt_template.format(country = 'India')\n",
    "\n",
    "chain = LLMChain(llm=llm,prompt = prompt_template)\n",
    "chain.run('India')\n",
    "#llm.predict(prompt_template=prompt_template,text=['India'])"
   ]
  },
  {
   "cell_type": "markdown",
   "metadata": {},
   "source": [
    "### Combining multiple chains using Simple Seq Chain"
   ]
  },
  {
   "cell_type": "code",
   "execution_count": 19,
   "metadata": {},
   "outputs": [
    {
     "data": {
      "text/plain": [
       "' Some amazing places to visit in Washington, D.C. include:\\n\\n1. The National Mall - This iconic stretch of land is home to numerous monuments and memorials, including the Lincoln Memorial and Washington Monument.\\n\\n2. The Smithsonian Museums - There are 19 museums and galleries that make up the Smithsonian Institution, including the National Air and Space Museum, National Museum of Natural History, and the National Museum of African American History and Culture.\\n\\n3. The White House - Take a tour of the iconic home of the President of the United States and learn about its history and significance.\\n\\n4. Georgetown - This historic neighborhood is filled with charming cobblestone streets, unique shops, and delicious restaurants.\\n\\n5. Arlington National Cemetery - Pay your respects to fallen soldiers at this peaceful and solemn cemetery.\\n\\n6. The National Zoo - This free zoo is part of the Smithsonian and is home to over 2,000 animals, including giant pandas.\\n\\n7. The Kennedy Center - Catch a show at this world-renowned performing arts center, which offers a variety of theater, dance, and music performances.\\n\\n8. The National Gallery of Art - This art museum houses a vast collection of paintings, sculptures, and other works of art from all over the world.\\n\\n9. The United States Capitol - Take'"
      ]
     },
     "execution_count": 19,
     "metadata": {},
     "output_type": "execute_result"
    }
   ],
   "source": [
    "from langchain.chains import SimpleSequentialChain\n",
    "captital_prompt = PromptTemplate(\n",
    "  input_variables=['country'],\n",
    "  template='Tell me the capital of the {country}'\n",
    ")\n",
    "\n",
    "captial_chain = LLMChain(llm=llm,prompt = captital_prompt)\n",
    "\n",
    "###second prompt \n",
    "fms_prompt = PromptTemplate(\n",
    "  input_variables=['capital'],\n",
    "  template=\"Suggest me some amazing places to visit in {capital}\"\n",
    ")\n",
    "\n",
    "fms_chain = LLMChain(llm=llm,prompt = fms_prompt)\n",
    "chain = SimpleSequentialChain(chains = [captial_chain,fms_chain])\n",
    "chain.run('USA')"
   ]
  },
  {
   "cell_type": "markdown",
   "metadata": {},
   "source": [
    "## Seq chain "
   ]
  },
  {
   "cell_type": "code",
   "execution_count": 24,
   "metadata": {},
   "outputs": [
    {
     "data": {
      "text/plain": [
       "{'country': 'India',\n",
       " 'capital': '\\n\\nThe capital of India is New Delhi.',\n",
       " 'places': \" Here are some amazing places to visit there:\\n\\n1. Red Fort: This iconic monument is a must-visit for its stunning architecture and historical significance. Built in the 17th century, it served as the residence of Mughal emperors.\\n\\n2. Qutub Minar: Another famous landmark of Delhi, Qutub Minar is a 73-meter tall tower built in the 12th century. It is a UNESCO World Heritage Site and a popular tourist spot.\\n\\n3. India Gate: This war memorial is a symbol of national pride and is a popular spot for picnics and evening walks. It also has a beautiful garden surrounding it.\\n\\n4. Lotus Temple: This beautiful temple, shaped like a lotus flower, is a popular attraction for its unique architecture and serene atmosphere. It is open to people of all religions.\\n\\n5. Akshardham Temple: This grand temple complex is a popular religious spot and also houses a cultural center with exhibitions and shows.\\n\\n6. Humayun's Tomb: This stunning monument is the final resting place of Mughal emperor Humayun and is known for its intricate Mughal architecture.\\n\\n7. Chandni Chowk: This bustling market in Old Delhi is a must-visit for its vibrant atmosphere\"}"
      ]
     },
     "execution_count": 24,
     "metadata": {},
     "output_type": "execute_result"
    }
   ],
   "source": [
    "from langchain.chains import SequentialChain\n",
    "\n",
    "captital_prompt = PromptTemplate(\n",
    "  input_variables=['country'],\n",
    "  template='Tell me the capital of the {country}'\n",
    ")\n",
    "\n",
    "captial_chain = LLMChain(llm=llm,prompt = captital_prompt,output_key = 'capital')\n",
    "\n",
    "###second prompt \n",
    "fms_prompt = PromptTemplate(\n",
    "  input_variables=['capital'],\n",
    "  template=\"Suggest me some amazing places to visit in {capital}\"\n",
    ")\n",
    "\n",
    "fms_chain = LLMChain(llm=llm,prompt = fms_prompt,output_key = 'places')\n",
    "chain = SequentialChain(chains = [captial_chain,fms_chain],\n",
    "input_variables = ['country'],\n",
    "output_variables =['capital','places'])\n",
    "chain({'country':\"India\"})\n"
   ]
  },
  {
   "cell_type": "markdown",
   "metadata": {},
   "source": [
    "## ChatModel ChatOpenAI"
   ]
  },
  {
   "cell_type": "code",
   "execution_count": 25,
   "metadata": {},
   "outputs": [],
   "source": [
    "from langchain.chat_models import ChatOpenAI\n",
    "from langchain.schema import HumanMessage, SystemMessage, AIMessage\n",
    "chat_llm = ChatOpenAI(temperature=0.6, model=\"gpt-3.5-turbo\")"
   ]
  },
  {
   "cell_type": "code",
   "execution_count": 27,
   "metadata": {},
   "outputs": [
    {
     "data": {
      "text/plain": [
       "AIMessage(content='1. \"Why did the AI break up with its robot girlfriend? It couldn\\'t handle her emotional baggage!\"\\n2. \"I asked my AI assistant to tell me a joke, and it replied, \\'I\\'m sorry, Dave, I\\'m afraid I can\\'t do that.\\'\"\\n3. \"I told my AI to make me a sandwich, and it responded with, \\'I can\\'t do that, but I can help you order one online!\\'\"\\n4. \"I tried to have a deep conversation with my AI, but all it wanted to talk about was binary code. Talk about being one-dimensional!\"\\n5. \"I asked my AI to predict the future, and it said, \\'I see a lot of cat videos in your future.\\' Looks like it knows me well!\"', response_metadata={'token_usage': {'completion_tokens': 158, 'prompt_tokens': 25, 'total_tokens': 183}, 'model_name': 'gpt-3.5-turbo', 'system_fingerprint': None, 'finish_reason': 'stop', 'logprobs': None}, id='run-890695ad-0bd2-48a8-a026-5cb63b7124a4-0')"
      ]
     },
     "execution_count": 27,
     "metadata": {},
     "output_type": "execute_result"
    }
   ],
   "source": [
    "## schema - systemmessage\n",
    "chat_llm(\n",
    "[\n",
    "  SystemMessage(content=\"You are a comedian AI assistant\"),\n",
    "  HumanMessage(content=\"Please provide some comedy punch lines on AI\")\n",
    "])"
   ]
  },
  {
   "cell_type": "markdown",
   "metadata": {},
   "source": [
    "# Prompt Template + LLM + Output Parsers"
   ]
  },
  {
   "cell_type": "code",
   "execution_count": 29,
   "metadata": {},
   "outputs": [],
   "source": [
    "from langchain.chat_models import ChatOpenAI\n",
    "from langchain.prompts.chat import ChatPromptTemplate\n",
    "from langchain.schema import BaseOutputParser"
   ]
  },
  {
   "cell_type": "code",
   "execution_count": 30,
   "metadata": {},
   "outputs": [],
   "source": [
    "class commaseperateop(BaseOutputParser):\n",
    "  def parse(self,text:str):\n",
    "    return text.strip().split(\",\")"
   ]
  },
  {
   "cell_type": "code",
   "execution_count": 33,
   "metadata": {},
   "outputs": [
    {
     "data": {
      "text/plain": [
       "['awful', ' terrible', ' poor', ' inferior', ' subpar']"
      ]
     },
     "execution_count": 33,
     "metadata": {},
     "output_type": "execute_result"
    }
   ],
   "source": [
    "template = 'You are helpful assistant. When user gives any input, you should generate 5 synonyms in comma seperated format'\n",
    "human_template = \"{input}\"\n",
    "chatprompt = ChatPromptTemplate.from_messages([\n",
    "(\"system\", template),\n",
    "('human',human_template)\n",
    "])\n",
    "\n",
    "chain = chatprompt | chat_llm | commaseperateop()\n",
    "chain.invoke({\"input\":\"bad\"})"
   ]
  }
 ],
 "metadata": {
  "kernelspec": {
   "display_name": "Python 3.10.6 ('myenv': venv)",
   "language": "python",
   "name": "python3"
  },
  "language_info": {
   "codemirror_mode": {
    "name": "ipython",
    "version": 3
   },
   "file_extension": ".py",
   "mimetype": "text/x-python",
   "name": "python",
   "nbconvert_exporter": "python",
   "pygments_lexer": "ipython3",
   "version": "3.10.6"
  },
  "orig_nbformat": 4,
  "vscode": {
   "interpreter": {
    "hash": "b6a2547cf9d0c4d2f89d75eb26a0a292e69a1ba868c34b7747946ed4af354b03"
   }
  }
 },
 "nbformat": 4,
 "nbformat_minor": 2
}
